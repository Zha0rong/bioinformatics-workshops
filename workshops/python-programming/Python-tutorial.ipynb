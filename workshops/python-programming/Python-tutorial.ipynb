{
 "cells": [
  {
   "cell_type": "markdown",
   "id": "1af06c07-cae4-4c41-8071-ac58fcfbbbeb",
   "metadata": {},
   "source": [
    "# Boston University Bioinformatics Python Tutorial\n",
    "\n",
    "Presented here is a tutorial on the *basics* of the Python programming language. If you want to write a program for a particular computational task, there is a way to do it in Python; it's a matter of *how* not *if*. Google and [stackoverflow](https://stackoverflow.com/), as usual, are your friends for programming questions of all levels, including the [Python Documentation](https://docs.python.org/3/) itself or the documentation for whatever library you are trying to use.\n",
    "\n",
    "Before getting to Python exercises, a quick note on using the Jupyter IDE. Jupyter allows you to interact with iPython (`.ipynb`) notebooks. These is a particularly powerful programming environment for data science because it allows you to isolate chunks of codes into cells that run independently, which can be convenient when you'd like to load your data, then use, then change some parameters, then visualize some things, etc. While a normal Python script allows you to run through an entire program linearly, Jupyter allows you to run each part of a \"program\" separately and include `Markdown` documentation (like this cell here). Here are some nifty Jupyter keyboard shortcuts for working more efficiently:\n",
    "\n",
    "* The last element of a cell will be displayed as output (even without using `print`)\n",
    "* Run a cell with Cmd + Enter. Use Shift + Enter to run a cell and advance to the next one\n",
    "* Use tab-completion to complete variable names (technically an iPython keyboard shortcut)\n",
    "* Use shift-tab-completion to see what methods are available to a Python object, for example: df.<Shift+Tab> will pull up a dropdown menu of available methods (also technically an iPython shortcut)\n",
    "* When a cell is selected press A to create a new cell above or B to create a new cell below\n",
    "* When a cell is selected press C to copy that cell or X to cut that cell and then V to paste it\n",
    "* Use Z to undo the cutting of a cell\n",
    "\n",
    "You can find more Jupyter tips here: https://michaelsilverstein.github.io/workflow.html."
   ]
  },
  {
   "cell_type": "markdown",
   "id": "e79a2109-1508-40ad-a912-56008be80206",
   "metadata": {},
   "source": [
    "# Python Data Types and Basic Operations\n",
    "Run of each of the cells below to execute the code"
   ]
  },
  {
   "cell_type": "markdown",
   "id": "62693e48-3501-4db2-ace4-4b60b3f037fa",
   "metadata": {},
   "source": [
    "## Numerical"
   ]
  },
  {
   "cell_type": "markdown",
   "id": "24ce2cf3-0595-4d4b-aace-79f5e79b5947",
   "metadata": {},
   "source": [
    "### Types"
   ]
  },
  {
   "cell_type": "code",
   "execution_count": 1,
   "id": "af800c76-bd27-4845-becd-2f8b9442d806",
   "metadata": {},
   "outputs": [
    {
     "data": {
      "text/plain": [
       "1"
      ]
     },
     "execution_count": 1,
     "metadata": {},
     "output_type": "execute_result"
    }
   ],
   "source": [
    "\"\"\"Integers\"\"\"\n",
    "1"
   ]
  },
  {
   "cell_type": "code",
   "execution_count": 4,
   "id": "06bf07c3-bf0f-4d79-902f-eebfb72d0a44",
   "metadata": {},
   "outputs": [
    {
     "data": {
      "text/plain": [
       "1.0"
      ]
     },
     "execution_count": 4,
     "metadata": {},
     "output_type": "execute_result"
    }
   ],
   "source": [
    "\"\"\"Floats\"\"\"\n",
    "1.0"
   ]
  },
  {
   "cell_type": "markdown",
   "id": "92ba4418-3d3e-4fff-a2bd-13fd5b9c541e",
   "metadata": {},
   "source": [
    "### Operations"
   ]
  },
  {
   "cell_type": "code",
   "execution_count": 13,
   "id": "985b697e-7a26-49c8-b113-2b6ce9fd2fd7",
   "metadata": {},
   "outputs": [
    {
     "name": "stdout",
     "output_type": "stream",
     "text": [
      "Addition\n",
      "6.5\n",
      "\n",
      "Multiplication\n",
      "50\n",
      "\n",
      "10/3 calculted with one \"/\":  10/3 = 3.3333333333333335\n",
      "However, \"//\" rounds down:    10//3 = 3\n",
      "\n",
      "Exponent\n",
      "9\n",
      "\n",
      "Modulo\n",
      "1\n",
      "\n"
     ]
    }
   ],
   "source": [
    "\"\"\"Operations\"\"\"\n",
    "# This is a comment, nothing here will be executed (things in triple quotes are comments too! They show up in red in Jupyter, which is chill)\n",
    "# Here are numerical operations in python\n",
    "# We'll use the `print()` function to display each value\n",
    "\n",
    "# Addition (obviously you can subtract too...). Notice that numerical operations can be mixed with integers and floats\n",
    "print('Addition')\n",
    "print(1 + 5.5)\n",
    "print()\n",
    "\n",
    "# Multiplication\n",
    "print('Multiplication')\n",
    "print(5 * 10)\n",
    "print()\n",
    "\n",
    "# Division (here we are printing 10/3 using a \"f-string\". More on that later)\n",
    "print(f'10/3 calculted with one \"/\":  10/3 = {10/3}' )\n",
    "print(f'However, \"//\" rounds down:    10//3 = {10//3}')\n",
    "print()\n",
    "\n",
    "# Exponent\n",
    "print('Exponent')\n",
    "print(3 ** 2)\n",
    "print()\n",
    "\n",
    "# Modulo (calculates the remainder)\n",
    "print('Modulo')\n",
    "print(10 % 3)\n",
    "print()"
   ]
  },
  {
   "cell_type": "markdown",
   "id": "3f880112-a8cb-428c-bae0-e3ebd7b81f83",
   "metadata": {},
   "source": [
    "## Variables"
   ]
  },
  {
   "cell_type": "code",
   "execution_count": 15,
   "id": "0cff5ad6-9e45-4202-8bc8-1fdd2af29066",
   "metadata": {},
   "outputs": [
    {
     "data": {
      "text/plain": [
       "80.0"
      ]
     },
     "execution_count": 15,
     "metadata": {},
     "output_type": "execute_result"
    }
   ],
   "source": [
    "\"\"\"Using variables\"\"\"\n",
    "# Anything Python object can be saved to a variable. That variable can then have the same operations performed on it as if it was the original object\n",
    "x = 4\n",
    "y = 20.\n",
    "\n",
    "x * y"
   ]
  },
  {
   "cell_type": "markdown",
   "id": "89eebfe1-9933-4888-8ab1-83864334512b",
   "metadata": {},
   "source": [
    "## Strings"
   ]
  },
  {
   "cell_type": "markdown",
   "id": "d4557cb0-3904-4e81-aa25-a3572feb23f0",
   "metadata": {},
   "source": [
    "### Types"
   ]
  },
  {
   "cell_type": "code",
   "execution_count": 16,
   "id": "5127cd5d-9085-4ab1-8634-33baa3295d56",
   "metadata": {},
   "outputs": [
    {
     "data": {
      "text/plain": [
       "'Strings can be created with single quotes'"
      ]
     },
     "execution_count": 16,
     "metadata": {},
     "output_type": "execute_result"
    }
   ],
   "source": [
    "'Strings can be created with single quotes'"
   ]
  },
  {
   "cell_type": "code",
   "execution_count": 17,
   "id": "10b767d2-494e-4a21-b0b9-f2069ac51992",
   "metadata": {},
   "outputs": [
    {
     "data": {
      "text/plain": [
       "'Or with double quotes'"
      ]
     },
     "execution_count": 17,
     "metadata": {},
     "output_type": "execute_result"
    }
   ],
   "source": [
    "\"Or with double quotes\""
   ]
  },
  {
   "cell_type": "code",
   "execution_count": 19,
   "id": "1a55e009-50d2-4513-a365-172230e2345c",
   "metadata": {},
   "outputs": [
    {
     "name": "stdout",
     "output_type": "stream",
     "text": [
      "Multiline\n",
      "strings can be created with triple quotes\n"
     ]
    }
   ],
   "source": [
    "multi = \"\"\"Multiline\n",
    "strings can be created with triple quotes\"\"\"\n",
    "print(multi)"
   ]
  },
  {
   "cell_type": "code",
   "execution_count": 25,
   "id": "7225b8f1-4875-4dcf-8b8c-9eda3bebef24",
   "metadata": {},
   "outputs": [
    {
     "data": {
      "text/plain": [
       "'Double \"quotes\" can be used in single quote strings and vice versa'"
      ]
     },
     "execution_count": 25,
     "metadata": {},
     "output_type": "execute_result"
    }
   ],
   "source": [
    "'Double \"quotes\" can be used in single quote strings and vice versa'"
   ]
  },
  {
   "cell_type": "markdown",
   "id": "379fcbf4-2b5c-4242-92d8-17f29a3dbf99",
   "metadata": {},
   "source": [
    "### Operations"
   ]
  },
  {
   "cell_type": "code",
   "execution_count": 22,
   "id": "9c7b32bc-6912-4dc4-a56d-9d0b4b46ed00",
   "metadata": {},
   "outputs": [
    {
     "name": "stdout",
     "output_type": "stream",
     "text": [
      "You can add strings together to concatenate them\n",
      "Or repeat repeat repeat them by \"multiplying\"\n"
     ]
    }
   ],
   "source": [
    "\"\"\"Concatenation\"\"\"\n",
    "print('You can ' + 'add strings together to' + ' concatenate them')\n",
    "print('Or ' + 'repeat ' * 3 + 'them by \"multiplying\"')"
   ]
  },
  {
   "cell_type": "code",
   "execution_count": 32,
   "id": "c25c4a9e-1689-4965-bba5-49422b49c1aa",
   "metadata": {},
   "outputs": [
    {
     "data": {
      "text/plain": [
       "0"
      ]
     },
     "execution_count": 32,
     "metadata": {},
     "output_type": "execute_result"
    }
   ],
   "source": [
    "\"\"\"Counting a character\"\"\"\n",
    "x = 'asdflihjasfiha'\n",
    "x.count('g')"
   ]
  },
  {
   "cell_type": "code",
   "execution_count": 31,
   "id": "1f9bb2d8-ddb6-4646-bd97-4ed19ca05304",
   "metadata": {},
   "outputs": [
    {
     "data": {
      "text/plain": [
       "'sdf'"
      ]
     },
     "execution_count": 31,
     "metadata": {},
     "output_type": "execute_result"
    }
   ],
   "source": [
    "\"\"\"Stripping\"\"\"\n",
    "# Stripping removes a character from the left (.lstrip()) right (.rstrip()) or either end (.strip()), the default characters are whitespace\n",
    "x = 'sdf '\n",
    "x.strip()"
   ]
  },
  {
   "cell_type": "code",
   "execution_count": 33,
   "id": "f14a0d87-ad18-41bc-8dca-7e280a79a75b",
   "metadata": {},
   "outputs": [
    {
     "data": {
      "text/plain": [
       "['If you want to split a string on a certain character',\n",
       " ' you can use the .split() method']"
      ]
     },
     "execution_count": 33,
     "metadata": {},
     "output_type": "execute_result"
    }
   ],
   "source": [
    "\"\"\"Splitting\"\"\"\n",
    "s = 'If you want to split a string into a list on a certain character, you can use the .split() method'\n",
    "s.split(',')"
   ]
  },
  {
   "cell_type": "code",
   "execution_count": null,
   "id": "923fd810-05a4-4150-93f0-4f4e028aa11f",
   "metadata": {},
   "outputs": [],
   "source": [
    "x.join()"
   ]
  },
  {
   "cell_type": "code",
   "execution_count": 40,
   "id": "55e615b4-940b-4366-a8c1-f9775e3b05ae",
   "metadata": {},
   "outputs": [
    {
     "data": {
      "text/plain": [
       "'You can join a list**with a string**using the .join()**method'"
      ]
     },
     "execution_count": 40,
     "metadata": {},
     "output_type": "execute_result"
    }
   ],
   "source": [
    "\"\"\"Joining\"\"\"\n",
    "'**'.join(['You can join a list', 'with a string', 'using the .join()', 'method'])"
   ]
  },
  {
   "cell_type": "markdown",
   "id": "ab1d61ef-ef1e-4373-b98f-34fa91fb08b1",
   "metadata": {},
   "source": [
    "*Note*: A method (a `.` following an object) is an operation performed on a particular Python object. Each type of object has different methods associated with it."
   ]
  },
  {
   "cell_type": "markdown",
   "id": "6ae48a6b-3ba9-467d-8e1b-37339ee2f65b",
   "metadata": {},
   "source": [
    "### String substitution\n",
    "These allow you to place strings right into other strings which can be particularly convenient when you'd like to include a value in a string that will derive from a variable."
   ]
  },
  {
   "cell_type": "code",
   "execution_count": 26,
   "id": "1dc6861f-cc10-492f-8d0b-a218ac4ebdfc",
   "metadata": {},
   "outputs": [
    {
     "data": {
      "text/plain": [
       "\"Let's say hello to Priya, they are super funny!\""
      ]
     },
     "execution_count": 26,
     "metadata": {},
     "output_type": "execute_result"
    }
   ],
   "source": [
    "\"\"\"The % method\"\"\"\n",
    "name = 'Priya'\n",
    "adj = 'funny'\n",
    "\"Let's say hello to %s, they are super %s!\" % (name, adj)"
   ]
  },
  {
   "cell_type": "code",
   "execution_count": 54,
   "id": "83d3018d-4c3b-4ea3-8a84-fea16160c25d",
   "metadata": {},
   "outputs": [
    {
     "name": "stdout",
     "output_type": "stream",
     "text": [
      "F-strings are super cool, all you have to do is add an \"f\" to the beginning of a string, and then you can interperolate on the fly buy using {}.\n",
      "You can have any Python code {}, like 3 + 5 = 8\n",
      "\n"
     ]
    }
   ],
   "source": [
    "\"\"\"F-strings\"\"\"\n",
    "adj = 'cool'\n",
    "sf = f\"\"\"F-strings are super {adj}, all you have to do is add an \"f\" to the beginning of a string, and then you can interperolate on the fly buy using {{}}.\n",
    "You can have any Python code {{}}, like 3 + 5 = {3 + 5}\n",
    "\"\"\"\n",
    "print(sf)"
   ]
  },
  {
   "cell_type": "markdown",
   "id": "3c120df6-de08-4bd9-9b62-d827976b8802",
   "metadata": {},
   "source": [
    "## Boolean\n",
    "For boolean objects you can use `True`, `False`, `1` (another way of saying `True`), or `0` (another way of saying `False`). "
   ]
  },
  {
   "cell_type": "code",
   "execution_count": 55,
   "id": "036078ec-2089-48a0-b32e-90f62eb58747",
   "metadata": {},
   "outputs": [
    {
     "data": {
      "text/plain": [
       "True"
      ]
     },
     "execution_count": 55,
     "metadata": {},
     "output_type": "execute_result"
    }
   ],
   "source": [
    "\"\"\"Booleans encode the truth of a statement 🤯\"\"\"\n",
    "4 > 2"
   ]
  },
  {
   "cell_type": "code",
   "execution_count": 58,
   "id": "2777d3ee-ff9f-450b-9de1-2dd1d57222f1",
   "metadata": {},
   "outputs": [
    {
     "name": "stdout",
     "output_type": "stream",
     "text": [
      "True\n",
      "False\n",
      "True\n"
     ]
    }
   ],
   "source": [
    "\"\"\"You can use all of your favorite boolen operators\"\"\"\n",
    "# Greater/less than or equal to\n",
    "print(4 <= 5)\n",
    "\n",
    "# Equal to\n",
    "print(100 == 0)\n",
    "\n",
    "# Not equal to\n",
    "print(100 != 0)"
   ]
  },
  {
   "cell_type": "code",
   "execution_count": 106,
   "id": "eea0b1d6-0354-48d8-9967-59429e4e50c7",
   "metadata": {},
   "outputs": [
    {
     "data": {
      "text/plain": [
       "(True, False, True, False)"
      ]
     },
     "execution_count": 106,
     "metadata": {},
     "output_type": "execute_result"
    }
   ],
   "source": [
    "\"\"\"Evaluate the boolean value of an object\"\"\"\n",
    "# use the `bool()` function to assess the boolean value of an object\n",
    "bool(1), bool(0), bool('test'), bool()"
   ]
  },
  {
   "cell_type": "markdown",
   "id": "8c2e13cf-7910-4dad-836e-66f80f2a3c76",
   "metadata": {},
   "source": [
    "## None"
   ]
  },
  {
   "cell_type": "code",
   "execution_count": 57,
   "id": "34f97f9d-a28f-411d-b1dd-8245e90ec581",
   "metadata": {},
   "outputs": [],
   "source": [
    "x = None\n",
    "x"
   ]
  },
  {
   "cell_type": "markdown",
   "id": "724215a6-4e06-4b12-af2f-3aa2b0e97090",
   "metadata": {},
   "source": [
    "# Data structures\n",
    "These allow you to store, retrieve, and in some cases, edit, sets of Python objects"
   ]
  },
  {
   "cell_type": "markdown",
   "id": "92c1314c-3807-4068-8663-2b696349bb18",
   "metadata": {},
   "source": [
    "## Lists\n",
    "Lists are created with square brackets: `[]`. Lists are \"mutable\" meaning that the elements of a list can be changed."
   ]
  },
  {
   "cell_type": "code",
   "execution_count": 70,
   "id": "2054293c-91da-462a-8087-91dde024d65e",
   "metadata": {},
   "outputs": [
    {
     "data": {
      "text/plain": [
       "['lists can contain a mix of objects', 3, 5.0]"
      ]
     },
     "execution_count": 70,
     "metadata": {},
     "output_type": "execute_result"
    }
   ],
   "source": [
    "\"\"\"Manually creating a list\"\"\"\n",
    "x = 3\n",
    "l1 = ['lists can contain a mix of objects', x, 5.]\n",
    "l1"
   ]
  },
  {
   "cell_type": "markdown",
   "id": "3813f8cd-8146-4b74-972f-ac2b5ddb0c37",
   "metadata": {},
   "source": [
    "### Indexing\n",
    "You can access the elements of a list by indexing it with square brackets and an integer representing the position (starting with 0)."
   ]
  },
  {
   "cell_type": "code",
   "execution_count": 72,
   "id": "09ec8948-9b19-4f59-b833-e8550366aed4",
   "metadata": {},
   "outputs": [
    {
     "name": "stdout",
     "output_type": "stream",
     "text": [
      "lists can contain a mix of objects\n",
      "3\n",
      "new stuff for the first list\n"
     ]
    },
    {
     "data": {
      "text/plain": [
       "5.0"
      ]
     },
     "execution_count": 72,
     "metadata": {},
     "output_type": "execute_result"
    }
   ],
   "source": [
    "\"\"\"Index elements\"\"\"\n",
    "# The first element of the list\n",
    "print(l1[0])\n",
    "\n",
    "# The second element of the list\n",
    "print(l1[1])\n",
    "\n",
    "# The last element of the list\n",
    "print(l1[-1])\n",
    "\n",
    "# The second to last element of the list\n",
    "l1[-2]"
   ]
  },
  {
   "cell_type": "code",
   "execution_count": 74,
   "id": "bb9e08cf-cb43-4293-a253-4895538a1cfb",
   "metadata": {},
   "outputs": [
    {
     "data": {
      "text/plain": [
       "['the new first element', 3, 5.0, 'new stuff for the first list']"
      ]
     },
     "execution_count": 74,
     "metadata": {},
     "output_type": "execute_result"
    }
   ],
   "source": [
    "\"\"\"Updating the elements of a list\"\"\"\n",
    "# You can update the elements of a list by re-assigning it's index\n",
    "l1[0] = 'the new first element'\n",
    "l1"
   ]
  },
  {
   "cell_type": "code",
   "execution_count": null,
   "id": "0c33012e-ab6a-4bdc-bf49-7d48b581fc08",
   "metadata": {},
   "outputs": [],
   "source": [
    "\"\"\"Indexing portions of a list\"\"\"\n",
    "# Get the second to fourth element\n",
    "print(l1[1: 4])\n",
    "print()\n",
    "\n",
    "# Index from the beginning up to the second element\n",
    "print(l1[:2])\n",
    "print()\n",
    "\n",
    "# Index from the third element to the end\n",
    "print(l1[2:])\n",
    "print()\n",
    "\n",
    "# Index every other element\n",
    "print(l1[::2])\n",
    "print()"
   ]
  },
  {
   "cell_type": "markdown",
   "id": "895a1432-d762-4165-b7c7-02bf8665ba95",
   "metadata": {},
   "source": [
    "*Note*: When indexing a chunk of a list, notice that Python indexes **up to** the position of the second value (like `4` in `l1[1: 4]`, this displays elements at 1, 2, and 3, but not 4 itself)."
   ]
  },
  {
   "cell_type": "markdown",
   "id": "62c50a2f-e744-49f1-8ea8-48702fc92061",
   "metadata": {},
   "source": [
    "### Operations"
   ]
  },
  {
   "cell_type": "code",
   "execution_count": 71,
   "id": "04a44b8e-2771-4f3f-be7e-9fb256546637",
   "metadata": {},
   "outputs": [
    {
     "data": {
      "text/plain": [
       "['lists can contain a mix of objects', 3, 5.0, 'new stuff for the first list']"
      ]
     },
     "execution_count": 71,
     "metadata": {},
     "output_type": "execute_result"
    }
   ],
   "source": [
    "\"\"\"Appending to a list\"\"\"\n",
    "# Append using the .append() method\n",
    "l1.append('new stuff for the first list')\n",
    "l1"
   ]
  },
  {
   "cell_type": "code",
   "execution_count": 97,
   "id": "4bd52681-16f6-47c4-997c-17bbd2bf7ed6",
   "metadata": {},
   "outputs": [
    {
     "data": {
      "text/plain": [
       "['a', 'b', 'c']"
      ]
     },
     "execution_count": 97,
     "metadata": {},
     "output_type": "execute_result"
    }
   ],
   "source": [
    "\"\"\"Sort a list\"\"\"\n",
    "# Use the `sorted()` function\n",
    "sorted(['b', 'c', 'a'])"
   ]
  },
  {
   "cell_type": "code",
   "execution_count": 102,
   "id": "815a2444-dd18-464c-a139-c5ae848eb4aa",
   "metadata": {},
   "outputs": [
    {
     "data": {
      "text/plain": [
       "True"
      ]
     },
     "execution_count": 102,
     "metadata": {},
     "output_type": "execute_result"
    }
   ],
   "source": [
    "\"\"\"Query a list\"\"\"\n",
    "# Use the `in` operator to ask if an element is in the list. This returns a bool\n",
    "3 in l1"
   ]
  },
  {
   "cell_type": "code",
   "execution_count": 79,
   "id": "ec5521ca-069c-4864-9c96-132f755787ad",
   "metadata": {},
   "outputs": [
    {
     "data": {
      "text/plain": [
       "13.5"
      ]
     },
     "execution_count": 79,
     "metadata": {},
     "output_type": "execute_result"
    }
   ],
   "source": [
    "\"\"\"Adding numeric elements of a list\"\"\"\n",
    "# Use the `sum()` function to add numeric elements of a list\n",
    "sum([1, 2, 10.5])"
   ]
  },
  {
   "cell_type": "markdown",
   "id": "22f9d232-0683-42f0-8953-d74956ac3923",
   "metadata": {},
   "source": [
    "A list of other built-in python functions like `sum()` can be found [here](https://docs.python.org/3/library/functions.html)."
   ]
  },
  {
   "cell_type": "code",
   "execution_count": 80,
   "id": "a67240bf-863d-40d1-917d-c8c3098efd7c",
   "metadata": {},
   "outputs": [
    {
     "data": {
      "text/plain": [
       "4"
      ]
     },
     "execution_count": 80,
     "metadata": {},
     "output_type": "execute_result"
    }
   ],
   "source": [
    "\"\"\"Find the length of a list\"\"\"\n",
    "len(l1)"
   ]
  },
  {
   "cell_type": "code",
   "execution_count": 82,
   "id": "39e047ff-8378-448f-9f6e-a1c31e1e0cac",
   "metadata": {},
   "outputs": [],
   "source": [
    "\"\"\"TASK: Compute the average of the following list\"\"\"\n",
    "a = [1, 19, 300]"
   ]
  },
  {
   "cell_type": "markdown",
   "id": "95c7ba17-b290-4f64-baeb-7f75328c96d6",
   "metadata": {},
   "source": [
    "## Tuples\n",
    "Tuples are created with parenthesis:`()`. You can index tuples in the same way that you can index a list, however they are \"unmutable\" - you cannot update tuples after they have been created. Tuples are "
   ]
  },
  {
   "cell_type": "code",
   "execution_count": 90,
   "id": "b7d37031-c8d6-4073-b0ef-5eedc98f0c23",
   "metadata": {},
   "outputs": [
    {
     "data": {
      "text/plain": [
       "(1, 2, 3)"
      ]
     },
     "execution_count": 90,
     "metadata": {},
     "output_type": "execute_result"
    }
   ],
   "source": [
    "\"\"\"Create a tuple\"\"\"\n",
    "t = (1, 2, 3)\n",
    "t"
   ]
  },
  {
   "cell_type": "code",
   "execution_count": 91,
   "id": "b657ceae-1ca5-4607-b5d3-754e2fa5dbca",
   "metadata": {},
   "outputs": [
    {
     "ename": "TypeError",
     "evalue": "'tuple' object does not support item assignment",
     "output_type": "error",
     "traceback": [
      "\u001b[0;31m---------------------------------------------------------------------------\u001b[0m",
      "\u001b[0;31mTypeError\u001b[0m                                 Traceback (most recent call last)",
      "\u001b[0;32m<ipython-input-91-2d8c10cf1a14>\u001b[0m in \u001b[0;36m<module>\u001b[0;34m\u001b[0m\n\u001b[1;32m      1\u001b[0m \u001b[0;34m\"\"\"Try to edit it\"\"\"\u001b[0m\u001b[0;34m\u001b[0m\u001b[0;34m\u001b[0m\u001b[0m\n\u001b[0;32m----> 2\u001b[0;31m \u001b[0mt\u001b[0m\u001b[0;34m[\u001b[0m\u001b[0;36m2\u001b[0m\u001b[0;34m]\u001b[0m \u001b[0;34m=\u001b[0m \u001b[0;34m'test'\u001b[0m\u001b[0;34m\u001b[0m\u001b[0;34m\u001b[0m\u001b[0m\n\u001b[0m",
      "\u001b[0;31mTypeError\u001b[0m: 'tuple' object does not support item assignment"
     ]
    }
   ],
   "source": [
    "\"\"\"Try to edit it\"\"\"\n",
    "t[2] = 'test'"
   ]
  },
  {
   "cell_type": "markdown",
   "id": "c5c8bb2c-cb0a-4809-8bf3-8502c98cbc46",
   "metadata": {},
   "source": [
    "**Woah**: wtf is that red thing?! This is an error. The last line of this red block will indicate the specific cause of the error and the part above it will show you the line the error occurred on. If the cause of your error comes from another script (like if you call a function (which we have spoken about yet) and there's are error *within* that funciton) then Python will trace the error back as far as it can go."
   ]
  },
  {
   "cell_type": "markdown",
   "id": "87e877cd-4354-4e04-b2e0-e987ca148dbf",
   "metadata": {},
   "source": [
    "## Dictionaries\n",
    "Dictionaries are created with curly braces: `{}` and are used to store \"key, value\" pairs. As the name implies, dictionaries allow you to establish a relationship between a certain key and a corresponding value. Unlike lists and tuples, the order of a dictionary is not (necessarily) preserved! Instead of indexing based on position, dictionaries are indexed based on the key. \n",
    "\n",
    "Each item of the dictionary is defined as `key`: `value` and items are separated by `,`, like: `{key1: value1, key2: value2, ...}`."
   ]
  },
  {
   "cell_type": "code",
   "execution_count": 93,
   "id": "ec47eeb5-fa89-4ca0-b643-19c4789dd0f7",
   "metadata": {},
   "outputs": [
    {
     "data": {
      "text/plain": [
       "{'key': 'value', 1: 'dog', 'l': ['storing a list too?', 1]}"
      ]
     },
     "execution_count": 93,
     "metadata": {},
     "output_type": "execute_result"
    }
   ],
   "source": [
    "\"\"\"Creating a dictionary\"\"\"\n",
    "d = {'key': 'value', 1: 'dog', 'l': ['storing a list too?', 1]}\n",
    "d"
   ]
  },
  {
   "cell_type": "markdown",
   "id": "2bc3a3ef-07d0-4fed-863d-ed317aaa8886",
   "metadata": {},
   "source": [
    "### Indexing"
   ]
  },
  {
   "cell_type": "code",
   "execution_count": 94,
   "id": "3091f1e9-3b26-4d25-96cb-d473224bc395",
   "metadata": {},
   "outputs": [
    {
     "data": {
      "text/plain": [
       "'dog'"
      ]
     },
     "execution_count": 94,
     "metadata": {},
     "output_type": "execute_result"
    }
   ],
   "source": [
    "\"\"\"Indexing a dictionary with a key\"\"\"\n",
    "# Get the values of 1\n",
    "d[1]"
   ]
  },
  {
   "cell_type": "code",
   "execution_count": 95,
   "id": "7c34f096-da36-4abe-8beb-ad4c98e26049",
   "metadata": {},
   "outputs": [
    {
     "data": {
      "text/plain": [
       "{'key': 'value', 1: 'dog', 'l': 'no longer a list'}"
      ]
     },
     "execution_count": 95,
     "metadata": {},
     "output_type": "execute_result"
    }
   ],
   "source": [
    "\"\"\"Reset the value of l\"\"\"\n",
    "d['l'] = 'no longer a list'\n",
    "d"
   ]
  },
  {
   "cell_type": "code",
   "execution_count": 96,
   "id": "e08f064f-73f8-4737-86b7-fb4f768521e8",
   "metadata": {},
   "outputs": [
    {
     "data": {
      "text/plain": [
       "{'key': 'value', 1: 'dog', 'l': 'no longer a list', 'new': 15}"
      ]
     },
     "execution_count": 96,
     "metadata": {},
     "output_type": "execute_result"
    }
   ],
   "source": [
    "\"\"\"Add a new item on the fly\"\"\"\n",
    "d['new'] = 10 + 5\n",
    "d"
   ]
  },
  {
   "cell_type": "markdown",
   "id": "c4569b9c-29f3-4d23-bbb1-cd438ae95d40",
   "metadata": {},
   "source": [
    "### Operations"
   ]
  },
  {
   "cell_type": "code",
   "execution_count": 98,
   "id": "99e3eadc-1307-4613-bafc-94a2f6077210",
   "metadata": {},
   "outputs": [
    {
     "data": {
      "text/plain": [
       "dict_keys(['key', 1, 'l', 'new'])"
      ]
     },
     "execution_count": 98,
     "metadata": {},
     "output_type": "execute_result"
    }
   ],
   "source": [
    "\"\"\"Get the keys of a dictionary\"\"\"\n",
    "d.keys()"
   ]
  },
  {
   "cell_type": "code",
   "execution_count": 99,
   "id": "eccb0158-8fe8-4c04-9514-e604ce02d48f",
   "metadata": {},
   "outputs": [
    {
     "data": {
      "text/plain": [
       "dict_values(['value', 'dog', 'no longer a list', 15])"
      ]
     },
     "execution_count": 99,
     "metadata": {},
     "output_type": "execute_result"
    }
   ],
   "source": [
    "\"\"\"Get the values\"\"\"\n",
    "d.values()"
   ]
  },
  {
   "cell_type": "code",
   "execution_count": 101,
   "id": "01af43e2-0d13-4c82-96aa-c9f356d9e0b9",
   "metadata": {},
   "outputs": [
    {
     "data": {
      "text/plain": [
       "dict_items([('key', 'value'), (1, 'dog'), ('l', 'no longer a list'), ('new', 15)])"
      ]
     },
     "execution_count": 101,
     "metadata": {},
     "output_type": "execute_result"
    }
   ],
   "source": [
    "\"\"\"Get the items\"\"\"\n",
    "# This can be particularly useful\n",
    "d.items()"
   ]
  },
  {
   "cell_type": "markdown",
   "id": "6cdbfded-f59b-4135-9146-5150ad6e1f5a",
   "metadata": {},
   "source": [
    "# Conditionals\n",
    "Create logic with `if`, `elif`, and `else` with conditional statements followed by `:`"
   ]
  },
  {
   "cell_type": "code",
   "execution_count": 107,
   "id": "61998713-ff49-4245-9e9e-1849a9e9089e",
   "metadata": {},
   "outputs": [
    {
     "name": "stdout",
     "output_type": "stream",
     "text": [
      "y wins\n"
     ]
    }
   ],
   "source": [
    "\"\"\"Conditional example\"\"\"\n",
    "x, y = 1, 2\n",
    "\n",
    "if x > y:\n",
    "    print('x wins')\n",
    "elif y > x:\n",
    "    print('y wins')\n",
    "else:\n",
    "    print('x = y')"
   ]
  },
  {
   "cell_type": "markdown",
   "id": "3d3aad59-11ed-4792-a934-a9497e20fcd3",
   "metadata": {},
   "source": [
    "# Loops\n",
    "Alright! Now we're getting programmatic. We've got data types, data structures, conditionals, and now we can really start to leverage the iterative advantages of computation. For and while loops allow you to perform iterative operations on scaled that would be anywhere from annoying to basically impossible for you to do otherwise."
   ]
  },
  {
   "cell_type": "markdown",
   "id": "b4019d5e-aeda-485e-bf05-7811c766d13c",
   "metadata": {},
   "source": [
    "## `for` loops\n",
    "For loops allow you to operate on each element of an array"
   ]
  },
  {
   "cell_type": "code",
   "execution_count": 109,
   "id": "f3b0308a-3a6f-47b7-84ca-b52f41dbdfe9",
   "metadata": {},
   "outputs": [
    {
     "name": "stdout",
     "output_type": "stream",
     "text": [
      "3\n",
      "4\n",
      "10\n"
     ]
    }
   ],
   "source": [
    "\"\"\"Loop through each element of a list and print it\"\"\"\n",
    "x = [3, 4, 10]\n",
    "\n",
    "for element in x:\n",
    "    print(element)"
   ]
  },
  {
   "cell_type": "code",
   "execution_count": 110,
   "id": "eb8d6d23-2d2b-42d9-9def-b256c11412d9",
   "metadata": {},
   "outputs": [
    {
     "name": "stdout",
     "output_type": "stream",
     "text": [
      "Bob 3\n",
      "Sally 10\n"
     ]
    }
   ],
   "source": [
    "\"\"\"Loop through the items of a dictionary\"\"\"\n",
    "d = {'Bob': 3, 'Sally': 10}\n",
    "\n",
    "# Here we will \"unpack\" each key and value of the items in d\n",
    "for k, v in d.items():\n",
    "    print(k, v)"
   ]
  },
  {
   "cell_type": "code",
   "execution_count": 114,
   "id": "f9e42cb5-1931-4683-b81b-513d267faa38",
   "metadata": {},
   "outputs": [
    {
     "name": "stdout",
     "output_type": "stream",
     "text": [
      "10 100\n",
      "11 121\n",
      "12 144\n",
      "13 169\n",
      "14 196\n"
     ]
    }
   ],
   "source": [
    "\"\"\"Use the `range` function to generate integers within a range\"\"\"\n",
    "# The syntax for range() is:\n",
    "# 1) range(stop): If only one argument is provided, generate a range from 0 to stop (exclusive!)\n",
    "# 2) range(start, stop): If two arguments are provided, go from start to stop (exclusive!)\n",
    "# 3) range(start, stop, step): Go from start to stop with size step\n",
    "\n",
    "for x in range(10, 15):\n",
    "    print(x, x ** 2)"
   ]
  },
  {
   "cell_type": "code",
   "execution_count": 115,
   "id": "0b886991-0dfb-43b2-a79a-c20deb35cfce",
   "metadata": {},
   "outputs": [
    {
     "data": {
      "text/plain": [
       "[5, 6, 7, 8, 9]"
      ]
     },
     "execution_count": 115,
     "metadata": {},
     "output_type": "execute_result"
    }
   ],
   "source": [
    "\"\"\"Add elements to a list on the fly\"\"\"\n",
    "# Create an empty list\n",
    "y = []\n",
    "\n",
    "for r in range(5):\n",
    "    # Add 10 to r at each step\n",
    "    n = r + 5\n",
    "    # Append this value to y\n",
    "    y.append(n)\n",
    "y"
   ]
  },
  {
   "cell_type": "markdown",
   "id": "bda8bfe3-c175-4cd0-8b98-8cdf7d75d988",
   "metadata": {},
   "source": [
    "### List comprehensions\n",
    "List comprehensions are a super convenient, but initially very bizzare looking, way to generate a list from a loop. List comprehension syntax can get fairly complicated depending on how nuanced of a loop you want to represent, but the basic synatx is:\n",
    "\n",
    "Regular for loop\n",
    "```python\n",
    "new = []\n",
    "for el in array:\n",
    "    # Perform an operation on el\n",
    "    o = operation(el)\n",
    "    # Add to new\n",
    "    new.append(o)\n",
    "```\n",
    "\n",
    "This same operation can be performed using the list comprehension syntax:\n",
    "```python\n",
    "new = [operation(el) for el in array]\n",
    "```\n",
    "So *sleek*!\n",
    "\n",
    "Dictionaries can also be generated from dictionary comprehensions"
   ]
  },
  {
   "cell_type": "code",
   "execution_count": null,
   "id": "1fef575d-f6d3-4d1f-ba47-bc8f83f0ce1c",
   "metadata": {},
   "outputs": [],
   "source": [
    "\"\"\"TASK: Recreate y from above with a list comprehension\"\"\"\n",
    "y = [<<PUT LIST COMPREHENSION HERE>>]"
   ]
  },
  {
   "cell_type": "markdown",
   "id": "5c7d5d9b-d4cf-4a77-b969-8d8f1abea48c",
   "metadata": {},
   "source": [
    "## `while` loops"
   ]
  },
  {
   "cell_type": "code",
   "execution_count": 111,
   "id": "c6f0fdd7-b83c-4a7a-892f-47f0a5113678",
   "metadata": {},
   "outputs": [
    {
     "name": "stdout",
     "output_type": "stream",
     "text": [
      "128\n"
     ]
    }
   ],
   "source": [
    "\"\"\"Double x until it's greater than 100\"\"\"\n",
    "x = 2\n",
    "\n",
    "while x < 100:\n",
    "    # This is the same as saying x = x * 2\n",
    "    x *= 2\n",
    "    # You could also say x += 2 as a way of saying x = x + 2\n",
    "    \n",
    "print(x)"
   ]
  },
  {
   "cell_type": "code",
   "execution_count": null,
   "id": "0764378c-87d4-4509-b55b-3a589ead205b",
   "metadata": {},
   "outputs": [],
   "source": [
    "\"\"\"TASK: Compute the mean of all of the odd numbers between 1 and 250\"\"\""
   ]
  },
  {
   "cell_type": "markdown",
   "id": "00ab5e9f-6696-448b-a276-b52ef1d09296",
   "metadata": {},
   "source": [
    "# Functions\n",
    "Functions all you to perform the same operation on a set of arguments. They are created with the following syntax:\n",
    "\n",
    "```python\n",
    "\"\"\"Create a python funciton\"\"\"\n",
    "def functionName(arg1, arg2):\n",
    "    \"\"\"\n",
    "    We can write some stuff here to described `functionName`. This is called the \"docstring\"\n",
    "    \"\"\"\n",
    "    # We can do stuff with arg1 and arg2 or anything we'd like\n",
    "    r = arg1 + arg2\n",
    "    \n",
    "    # We can then return Python object(s)\n",
    "    return r\n",
    "\n",
    "\n",
    "\"\"\"Use that python function\"\"\"\n",
    "y = functionName(1, 2) # y -> 3\n",
    "```\n",
    "\n",
    "In fact, you have already been using built-in Python functions through this tutorial. Any python command that ends with parenthesis is a Python function."
   ]
  },
  {
   "cell_type": "code",
   "execution_count": 116,
   "id": "4f13cafb-f95f-4fad-b16c-c2ef5f57cbcd",
   "metadata": {},
   "outputs": [
    {
     "data": {
      "text/plain": [
       "3"
      ]
     },
     "execution_count": 116,
     "metadata": {},
     "output_type": "execute_result"
    }
   ],
   "source": [
    "\"\"\"Create a function to add two numbers together\"\"\"\n",
    "def addNums(a, b):\n",
    "    return a + b\n",
    "\n",
    "# Use addNums()\n",
    "addNums(1, 2)"
   ]
  },
  {
   "cell_type": "markdown",
   "id": "766bedff-c54f-4f16-b511-ac1dc2b5c8b6",
   "metadata": {},
   "source": [
    "# Common Python libraries\n",
    "* Numpy\n",
    "* Pandas \n",
    "* Seaborn"
   ]
  }
 ],
 "metadata": {
  "kernelspec": {
   "display_name": "Python 3",
   "language": "python",
   "name": "python3"
  },
  "language_info": {
   "codemirror_mode": {
    "name": "ipython",
    "version": 3
   },
   "file_extension": ".py",
   "mimetype": "text/x-python",
   "name": "python",
   "nbconvert_exporter": "python",
   "pygments_lexer": "ipython3",
   "version": "3.8.10"
  }
 },
 "nbformat": 4,
 "nbformat_minor": 5
}
